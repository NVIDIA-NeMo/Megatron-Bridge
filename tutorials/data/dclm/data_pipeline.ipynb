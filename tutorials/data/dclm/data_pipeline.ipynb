{
 "cells": [
  {
   "cell_type": "markdown",
   "id": "327f594a",
   "metadata": {},
   "source": [
    "Data Processing for Megatron Bridge LLMs with the DCLM Dataset"
   ]
  },
  {
   "cell_type": "markdown",
   "id": "bed0d0ed",
   "metadata": {},
   "source": [
    "Download Data"
   ]
  },
  {
   "cell_type": "code",
   "execution_count": null,
   "id": "332a4a34",
   "metadata": {},
   "outputs": [
    {
     "name": "stderr",
     "output_type": "stream",
     "text": [
      "/home/dpykhtar/.local/lib/python3.10/site-packages/huggingface_hub/file_download.py:797: FutureWarning: `resume_download` is deprecated and will be removed in version 1.0.0. Downloads always resume when possible. If you want to force a new download, use `force_download=True`.\n",
      "  warnings.warn(\n",
      "Fetching 279 files:   0%|          | 1/279 [00:56<4:20:20, 56.19s/it]\n"
     ]
    }
   ],
   "source": [
    "from huggingface_hub import login, snapshot_download\n",
    "\n",
    "# login to HF using token\n",
    "login(token=\"input your HF token\")\n",
    "\n",
    "# download dataset\n",
    "snapshot_download(\n",
    "    repo_id=\"mlfoundations/dclm-baseline-1.0\",\n",
    "    repo_type=\"dataset\",\n",
    "    local_dir=\"/data/dclm\",\n",
    "    allow_patterns=\"global-shard_01_of_10/local-shard_0_of_10/**\",\n",
    "    resume_download=True,\n",
    "    max_workers=32,  # Don't hesitate to increase this number to lower the download time\n",
    ")"
   ]
  },
  {
   "cell_type": "code",
   "execution_count": null,
   "id": "ac07199e",
   "metadata": {},
   "outputs": [
    {
     "name": "stderr",
     "output_type": "stream",
     "text": [
      "./shard_00000009_processed.jsonl.zst: 569887342 bytes                            \n",
      "./shard_00000019_processed.jsonl.zst: 608026854 bytes                            \n",
      "./shard_00000031_processed.jsonl.zst: 591557933 bytes                            \n",
      "./shard_00000005_processed.jsonl.zst: 594844730 bytes                            \n",
      "./shard_00000013_processed.jsonl.zst: 646716531 bytes .zst : 488 MB...                                                 \n",
      "./shard_00000018_processed.jsonl.zst: 657069560 bytes .zst : 490 MB...                                                 \n",
      "./shard_00000015_processed.jsonl.zst: 630238650 bytes .zst : 471 MB...                                                 \n",
      "./shard_00000016_processed.jsonl.zst: 379555776 bytes t : 273 MB...                                                \n",
      "./shard_00000000_processed.jsonl.zst: 412723174 bytes t : 277 MB...                                                \n",
      "./shard_00000002_                                                              processed.jsonl.zst: 678117425 bytes \n",
      "./shard_00000014_processed.jsonl.zst: 654417139 bytes      : 364 MB...                           \n",
      "./shard_00000041_processed.jsonl.zst: 592160842 bytes       3 MB...                         \n",
      "./shard_00000010_processed.jsonl.zst: 602714957 bytes       9 MB...                         \n",
      "./shard_00000007_processed.jsonl.zst: 606690440 bytes       3 MB...                         \n",
      "./shard_00000022_processed.jsonl.zst: 615820326 bytes       3 MB...                         \n",
      "./shard_00000021_processed.jsonl.zst: 671606831 bytes       4 MB...                         \n",
      "./shard_00000017_processed.jsonl.zst: 620363352 bytes       7 MB...                         \n",
      "./shard_00000025_processed.jsonl.zst: 629252045 bytes       0 MB...                         \n",
      "./shard_00000004_processed.jsonl.zst: 641607684 bytes       7 MB...                         \n",
      "./shard_00000039_processed.jsonl.zst: 7188     sonl.zst : 274 MB...                                                               94077 bytes \n",
      "./shard_00000027_processed.jsonl.zst: 7088     sonl.zst : 270 MB...                                                               22613 bytes \n",
      "./shard_00000032_processed.jsonl.zst: 7436     sonl.zst : 282 MB...                                                               35502 bytes \n",
      "./shard_00000033_processed.jsonl.zst: 7347     sonl.zst : 274 MB...                                                               46673 bytes \n"
     ]
    }
   ],
   "source": [
    "%%bash\n",
    "\n",
    "# decompress files\n",
    "PATH_TO_SAVE=/data/dclm/decompressed\n",
    "SOURCE_DIR=/data/dclm/global-shard_01_of_10/local-shard_0_of_10\n",
    "NUM_WORKERS=32\n",
    "\n",
    "mkdir -p ${PATH_TO_SAVE}\n",
    "cd ${SOURCE_DIR}\n",
    "find . -name \"*.zst\" | parallel -j${NUM_WORKERS} \"zstd -d {} -o ${PATH_TO_SAVE}/{.}\""
   ]
  },
  {
   "cell_type": "code",
   "execution_count": null,
   "id": "bd1ab800",
   "metadata": {},
   "outputs": [],
   "source": [
    "%%bash\n",
    "\n",
    "# merge files\n",
    "SOURCE_DIR=/data/dclm/decompressed\n",
    "PATH_TO_SAVE=/data/dclm/decompressed/merged.jsonl\n",
    "\n",
    "cd ${SOURCE_DIR}\n",
    "awk '1' *.jsonl > ${PATH_TO_SAVE}\n",
    "\n",
    "# remove small .jsonl files\n",
    "rm shard_*"
   ]
  },
  {
   "cell_type": "code",
   "execution_count": null,
   "id": "bc2a1495",
   "metadata": {},
   "outputs": [],
   "source": [
    "%%bash\n",
    "\n",
    "# split file before shuffling\n",
    "LINES_PER_SPLIT=1000000\n",
    "SOURCE_FILE=/data/dclm/decompressed/merged.jsonl\n",
    "CHUNKS_DIR=/data/dclm/decompressed/chunks\n",
    "\n",
    "mkdir -p ${CHUNKS_DIR}\n",
    "split -l ${LINES_PER_SPLIT} ${SOURCE_FILE} ${CHUNKS_DIR}/chunk_\n",
    "\n",
    "# shuffle files\n",
    "NUM_WORKERS=16\n",
    "SHUFFLE_CHUNKS_DIR=/data/dclm/decompressed/shuffled_chunks\n",
    "PATH_TO_SAVE=/data/dclm/decompressed/shuffled.jsonl\n",
    "\n",
    "mkdir -p ${SHUFFLE_CHUNKS_DIR}\n",
    "ls \"${CHUNKS_DIR}\"/chunk_* | parallel -j\"${NUM_WORKERS}\" 'shuf {} -o '\"${SHUFFLE_CHUNKS_DIR}\"'/$(basename {})_shuf'\n",
    "rm -rf ${CHUNKS_DIR}\n",
    "awk '1' ${SHUFFLE_CHUNKS_DIR}/chunk_* > ${PATH_TO_SAVE}\n",
    "rm -rf ${SHUFFLE_CHUNKS_DIR}\n"
   ]
  },
  {
   "cell_type": "code",
   "execution_count": null,
   "id": "8855cb80",
   "metadata": {},
   "outputs": [],
   "source": []
  }
 ],
 "metadata": {
  "kernelspec": {
   "display_name": "Python 3",
   "language": "python",
   "name": "python3"
  },
  "language_info": {
   "codemirror_mode": {
    "name": "ipython",
    "version": 3
   },
   "file_extension": ".py",
   "mimetype": "text/x-python",
   "name": "python",
   "nbconvert_exporter": "python",
   "pygments_lexer": "ipython3",
   "version": "3.10.12"
  }
 },
 "nbformat": 4,
 "nbformat_minor": 5
}
